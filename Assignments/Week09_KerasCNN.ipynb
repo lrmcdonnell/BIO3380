{
  "cells": [
    {
      "cell_type": "markdown",
      "id": "72340ad8-060a-485a-9b30-ea03f88a8c96",
      "metadata": {
        "id": "72340ad8-060a-485a-9b30-ea03f88a8c96"
      },
      "source": [
        "## Imports:"
      ]
    },
    {
      "cell_type": "code",
      "execution_count": 1,
      "id": "bcfcd342-b811-4f41-8781-20cea08d08ce",
      "metadata": {
        "id": "bcfcd342-b811-4f41-8781-20cea08d08ce"
      },
      "outputs": [],
      "source": [
        "import numpy as np\n",
        "from tensorflow import keras\n",
        "from tensorflow.keras import layers\n",
        "%matplotlib inline\n",
        "import matplotlib.pyplot as plt"
      ]
    },
    {
      "cell_type": "markdown",
      "id": "7e8122bd-d86b-463e-ab56-2f92e7731939",
      "metadata": {
        "id": "7e8122bd-d86b-463e-ab56-2f92e7731939"
      },
      "source": [
        "## Data Preparation:"
      ]
    },
    {
      "cell_type": "code",
      "execution_count": 2,
      "id": "f8cec10d-3658-4563-b203-be662f5cb4fc",
      "metadata": {
        "colab": {
          "base_uri": "https://localhost:8080/"
        },
        "id": "f8cec10d-3658-4563-b203-be662f5cb4fc",
        "outputId": "5e291b41-d867-483c-cb51-bd2f43cfe1e8"
      },
      "outputs": [
        {
          "output_type": "stream",
          "name": "stdout",
          "text": [
            "Downloading data from https://storage.googleapis.com/tensorflow/tf-keras-datasets/mnist.npz\n",
            "11490434/11490434 [==============================] - 1s 0us/step\n",
            "x_train shape: (60000, 28, 28)\n",
            "60000 train samples\n",
            "10000 test samples\n"
          ]
        }
      ],
      "source": [
        "# Model / data parameters\n",
        "num_classes = 10\n",
        "input_shape = (28, 28, 1)\n",
        "\n",
        "# Load the data and split it between train and test sets\n",
        "(x_train, y_train), (x_test, y_test) = keras.datasets.mnist.load_data()\n",
        "\n",
        "# Scale images to the [0, 1] range\n",
        "x_train = x_train.astype(\"float32\") / 255\n",
        "x_test = x_test.astype(\"float32\") / 255\n",
        "\n",
        "print(\"x_train shape:\", x_train.shape)\n",
        "print(x_train.shape[0], \"train samples\")\n",
        "print(x_test.shape[0], \"test samples\")\n",
        "\n",
        "\n",
        "# convert class vectors to binary class matrices\n",
        "y_train = keras.utils.to_categorical(y_train, num_classes)\n",
        "y_test = keras.utils.to_categorical(y_test, num_classes)"
      ]
    },
    {
      "cell_type": "markdown",
      "id": "864ae8a9-7b53-4287-b4a0-5a5d01952bf9",
      "metadata": {
        "tags": [],
        "id": "864ae8a9-7b53-4287-b4a0-5a5d01952bf9"
      },
      "source": [
        "## Try to build your own convolutional neural network in keras. Use 2D convolutional and max pooling layers for the first part of the network, use two of each. Use a flatten layer and a dropout layer before passing it to dense layer with softmax as output. Here is some documentation on these things that might help:\n",
        "\n",
        "* https://keras.io/api/layers/core_layers/input/\n",
        "* https://keras.io/api/layers/convolution_layers/convolution2d/\n",
        "* https://keras.io/api/layers/pooling_layers/max_pooling2d/\n",
        "* https://keras.io/api/layers/reshaping_layers/flatten/\n"
      ]
    },
    {
      "cell_type": "code",
      "execution_count": 6,
      "id": "3ffdde55-1d3f-4f72-9e91-bc9599d93e82",
      "metadata": {
        "id": "3ffdde55-1d3f-4f72-9e91-bc9599d93e82",
        "colab": {
          "base_uri": "https://localhost:8080/"
        },
        "outputId": "56972fb5-6629-4bc0-cef8-b4ed64efdb89"
      },
      "outputs": [
        {
          "output_type": "stream",
          "name": "stdout",
          "text": [
            "Model: \"sequential_1\"\n",
            "_________________________________________________________________\n",
            " Layer (type)                Output Shape              Param #   \n",
            "=================================================================\n",
            " conv2d_2 (Conv2D)           (None, 26, 26, 32)        320       \n",
            "                                                                 \n",
            " max_pooling2d_2 (MaxPoolin  (None, 13, 13, 32)        0         \n",
            " g2D)                                                            \n",
            "                                                                 \n",
            " conv2d_3 (Conv2D)           (None, 11, 11, 16)        4624      \n",
            "                                                                 \n",
            " max_pooling2d_3 (MaxPoolin  (None, 5, 5, 16)          0         \n",
            " g2D)                                                            \n",
            "                                                                 \n",
            " flatten_1 (Flatten)         (None, 400)               0         \n",
            "                                                                 \n",
            " dropout_1 (Dropout)         (None, 400)               0         \n",
            "                                                                 \n",
            " dense_1 (Dense)             (None, 10)                4010      \n",
            "                                                                 \n",
            "=================================================================\n",
            "Total params: 8954 (34.98 KB)\n",
            "Trainable params: 8954 (34.98 KB)\n",
            "Non-trainable params: 0 (0.00 Byte)\n",
            "_________________________________________________________________\n"
          ]
        }
      ],
      "source": [
        "model = keras.Sequential(\n",
        "    [\n",
        "        keras.Input(shape=input_shape),\n",
        "        layers.Conv2D(32, kernel_size = (3,3), activation = 'relu'), #relu removes negative numbers\n",
        "        layers.MaxPooling2D((2,2)), #max pooling: subsampling\n",
        "        layers.Conv2D(16, kernel_size = (3,3), activation = 'relu'),\n",
        "        layers.MaxPooling2D((2,2)),\n",
        "        layers.Flatten(),\n",
        "        layers.Dropout(0.5),\n",
        "        layers.Dense(num_classes, activation = 'softmax'),\n",
        "    ]\n",
        ")\n",
        "\n",
        "model.summary()"
      ]
    },
    {
      "cell_type": "markdown",
      "id": "a357dfd6-ad6e-4eae-b1a6-ec4f25f850c8",
      "metadata": {
        "id": "a357dfd6-ad6e-4eae-b1a6-ec4f25f850c8"
      },
      "source": [
        "## Use the keras compile and fit functions to prepare and train your model.\n",
        "\n",
        "* https://keras.io/api/models/model_training_apis/"
      ]
    },
    {
      "cell_type": "code",
      "execution_count": 8,
      "id": "5e5cc9cf-63b2-4b93-9476-f237cf64f3c0",
      "metadata": {
        "id": "5e5cc9cf-63b2-4b93-9476-f237cf64f3c0",
        "colab": {
          "base_uri": "https://localhost:8080/"
        },
        "outputId": "2e856e09-4e8f-451e-e027-566f08efda9a"
      },
      "outputs": [
        {
          "output_type": "stream",
          "name": "stdout",
          "text": [
            "Epoch 1/15\n",
            "211/211 [==============================] - 26s 121ms/step - loss: 2.2062 - accuracy: 0.2225 - val_loss: 2.1761 - val_accuracy: 0.3180\n",
            "Epoch 2/15\n",
            "211/211 [==============================] - 26s 122ms/step - loss: 2.1824 - accuracy: 0.2377 - val_loss: 2.1439 - val_accuracy: 0.3665\n",
            "Epoch 3/15\n",
            "211/211 [==============================] - 26s 122ms/step - loss: 2.1544 - accuracy: 0.2565 - val_loss: 2.1042 - val_accuracy: 0.4213\n",
            "Epoch 4/15\n",
            "211/211 [==============================] - 26s 122ms/step - loss: 2.1188 - accuracy: 0.2798 - val_loss: 2.0540 - val_accuracy: 0.4908\n",
            "Epoch 5/15\n",
            "211/211 [==============================] - 27s 128ms/step - loss: 2.0765 - accuracy: 0.3044 - val_loss: 1.9916 - val_accuracy: 0.5588\n",
            "Epoch 6/15\n",
            "211/211 [==============================] - 26s 123ms/step - loss: 2.0205 - accuracy: 0.3339 - val_loss: 1.9135 - val_accuracy: 0.6212\n",
            "Epoch 7/15\n",
            "211/211 [==============================] - 25s 117ms/step - loss: 1.9565 - accuracy: 0.3637 - val_loss: 1.8188 - val_accuracy: 0.6710\n",
            "Epoch 8/15\n",
            "211/211 [==============================] - 26s 124ms/step - loss: 1.8831 - accuracy: 0.3933 - val_loss: 1.7093 - val_accuracy: 0.7005\n",
            "Epoch 9/15\n",
            "211/211 [==============================] - 27s 126ms/step - loss: 1.8023 - accuracy: 0.4221 - val_loss: 1.5894 - val_accuracy: 0.7260\n",
            "Epoch 10/15\n",
            "211/211 [==============================] - 26s 125ms/step - loss: 1.7069 - accuracy: 0.4543 - val_loss: 1.4610 - val_accuracy: 0.7488\n",
            "Epoch 11/15\n",
            "211/211 [==============================] - 27s 127ms/step - loss: 1.6133 - accuracy: 0.4845 - val_loss: 1.3342 - val_accuracy: 0.7682\n",
            "Epoch 12/15\n",
            "211/211 [==============================] - 27s 126ms/step - loss: 1.5272 - accuracy: 0.5074 - val_loss: 1.2156 - val_accuracy: 0.7887\n",
            "Epoch 13/15\n",
            "211/211 [==============================] - 26s 122ms/step - loss: 1.4358 - accuracy: 0.5331 - val_loss: 1.1054 - val_accuracy: 0.8055\n",
            "Epoch 14/15\n",
            "211/211 [==============================] - 26s 125ms/step - loss: 1.3480 - accuracy: 0.5614 - val_loss: 1.0052 - val_accuracy: 0.8237\n",
            "Epoch 15/15\n",
            "211/211 [==============================] - 26s 122ms/step - loss: 1.2741 - accuracy: 0.5859 - val_loss: 0.9181 - val_accuracy: 0.8378\n"
          ]
        },
        {
          "output_type": "execute_result",
          "data": {
            "text/plain": [
              "<keras.src.callbacks.History at 0x7d0fddddb9d0>"
            ]
          },
          "metadata": {},
          "execution_count": 8
        }
      ],
      "source": [
        "# Compile and fit here\n",
        "opt = keras.optimizers.SGD(learning_rate = 0.001)\n",
        "model.compile(optimizer = opt, loss= 'categorical_crossentropy', metrics = [\"accuracy\"])\n",
        "\n",
        "model.fit(\n",
        "    x_train, y_train,\n",
        "    epochs=15, batch_size = 256,\n",
        "    validation_split = 0.1)"
      ]
    },
    {
      "cell_type": "markdown",
      "id": "8fc651e2-f302-4f13-8d4c-de93b4a2b51f",
      "metadata": {
        "id": "8fc651e2-f302-4f13-8d4c-de93b4a2b51f"
      },
      "source": [
        "## Use the keras Model evaluate function with our test data to evaluate its preformance. Print the test loss and test accuracy of the model."
      ]
    },
    {
      "cell_type": "code",
      "execution_count": 9,
      "id": "24e3bb54-2c9c-4531-b9f6-dd3c2cf5310a",
      "metadata": {
        "id": "24e3bb54-2c9c-4531-b9f6-dd3c2cf5310a",
        "colab": {
          "base_uri": "https://localhost:8080/"
        },
        "outputId": "5a611dc2-2443-40bb-9b78-ff7721a1f678"
      },
      "outputs": [
        {
          "output_type": "execute_result",
          "data": {
            "text/plain": [
              "[0.9500325322151184, 0.8170999884605408]"
            ]
          },
          "metadata": {},
          "execution_count": 9
        }
      ],
      "source": [
        "#Evaluate here\n",
        "\n",
        "model.evaluate(x_test, y_test, verbose=0)\n"
      ]
    },
    {
      "cell_type": "markdown",
      "id": "bda89dbd-078b-4ba1-9897-77a68195c1f1",
      "metadata": {
        "id": "bda89dbd-078b-4ba1-9897-77a68195c1f1"
      },
      "source": [
        "## Evaluating Predictions\n",
        "\n",
        "### Change the image_index to see its predictions for other images!"
      ]
    },
    {
      "cell_type": "code",
      "execution_count": 10,
      "id": "b094017d-13f9-4cac-9729-8ece35881cdb",
      "metadata": {
        "colab": {
          "base_uri": "https://localhost:8080/",
          "height": 466
        },
        "id": "b094017d-13f9-4cac-9729-8ece35881cdb",
        "outputId": "21dfdd70-1429-426b-b41f-de6cb851415e"
      },
      "outputs": [
        {
          "output_type": "stream",
          "name": "stdout",
          "text": [
            "1/1 [==============================] - 0s 95ms/step\n",
            "Model prediction: 2\n"
          ]
        },
        {
          "output_type": "display_data",
          "data": {
            "text/plain": [
              "<Figure size 640x480 with 1 Axes>"
            ],
            "image/png": "[encoded data removed]"
          },
          "metadata": {}
        }
      ],
      "source": [
        "image_index = 1204\n",
        "plt.imshow(x_test[image_index].reshape(28, 28),cmap='Greys')\n",
        "pred = model.predict(np.array( [x_test[image_index],] ))\n",
        "print(\"Model prediction:\",pred.argmax())"
      ]
    },
    {
      "cell_type": "markdown",
      "id": "2899936c-6c1e-4e23-a634-21d64715ee78",
      "metadata": {
        "id": "2899936c-6c1e-4e23-a634-21d64715ee78"
      },
      "source": [
        "## Go back through the model code from the earlier sections. Modify the hyperparameters (things like the learning rate, activation function, number of epochs, number of nodes, etc).Try different dropout rates. Addidtionally, add the 'momentum' parameter to our SGD optimizer to see how that effects the preformance.\n"
      ]
    }
  ],
  "metadata": {
    "kernelspec": {
      "display_name": "Python 3 (ipykernel)",
      "language": "python",
      "name": "python3"
    },
    "language_info": {
      "codemirror_mode": {
        "name": "ipython",
        "version": 3
      },
      "file_extension": ".py",
      "mimetype": "text/x-python",
      "name": "python",
      "nbconvert_exporter": "python",
      "pygments_lexer": "ipython3",
      "version": "3.9.13"
    },
    "colab": {
      "provenance": []
    }
  },
  "nbformat": 4,
  "nbformat_minor": 5
}
