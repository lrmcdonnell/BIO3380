{
  "nbformat": 4,
  "nbformat_minor": 0,
  "metadata": {
    "colab": {
      "provenance": []
    },
    "kernelspec": {
      "name": "python3",
      "display_name": "Python 3"
    },
    "language_info": {
      "name": "python"
    }
  },
  "cells": [
    {
      "cell_type": "markdown",
      "source": [
        "# Numpy Intro\n",
        "\n",
        "Numpy is a python package commonly used in data science due to its fast computation times on large quantities of data. Its main feature is multidimensional arrays made up of elements of the same data type. These can be thought of like matrices. It has rows and columns and operations can preformed along is axes. In the syntax, numpy arrays are of the class ndarray.\n",
        "\n"
      ],
      "metadata": {
        "id": "znfQnE_tZlTN"
      }
    },
    {
      "cell_type": "code",
      "execution_count": null,
      "metadata": {
        "id": "EthBdUSEvVES"
      },
      "outputs": [],
      "source": [
        "import numpy as np"
      ]
    },
    {
      "cell_type": "code",
      "source": [
        "x = np.arange(15).reshape(3, 5)\n",
        "print(x)\n",
        "print(type(x))\n"
      ],
      "metadata": {
        "colab": {
          "base_uri": "https://localhost:8080/"
        },
        "id": "U7baYmKGnhLZ",
        "outputId": "159ae7e6-6fbc-4849-8ef6-5832277f6e88"
      },
      "execution_count": null,
      "outputs": [
        {
          "output_type": "stream",
          "name": "stdout",
          "text": [
            "[[ 0  1  2  3  4]\n",
            " [ 5  6  7  8  9]\n",
            " [10 11 12 13 14]]\n",
            "<class 'numpy.ndarray'>\n"
          ]
        }
      ]
    },
    {
      "cell_type": "markdown",
      "source": [
        "Numpy arrays have a couple of useful atributes:"
      ],
      "metadata": {
        "id": "9EsGBm8NnyPW"
      }
    },
    {
      "cell_type": "code",
      "source": [
        "print(x.shape)\n",
        "print(x.dtype)\n",
        "print(x.ndim)\n",
        "print(x.size)\n"
      ],
      "metadata": {
        "colab": {
          "base_uri": "https://localhost:8080/"
        },
        "id": "BtDpavdyntoI",
        "outputId": "8a611e32-58f2-4f32-a5fc-d70b7f18901f"
      },
      "execution_count": null,
      "outputs": [
        {
          "output_type": "stream",
          "name": "stdout",
          "text": [
            "(3, 5)\n",
            "int64\n",
            "2\n",
            "15\n"
          ]
        }
      ]
    },
    {
      "cell_type": "markdown",
      "source": [
        "Because these arrays are made up of a single specific datatype and have certain shapes, they must be created a certain way. There are several possible choices but you can't just create one through the class like this:\n",
        "\n",
        "x = ndarray()\n",
        "\n",
        "This and other similar attempts will not work. One simple way could be to go from an existing python list:"
      ],
      "metadata": {
        "id": "k0-ku3cDo55b"
      }
    },
    {
      "cell_type": "code",
      "source": [
        "x = np.array([1,2,3])\n",
        "testList = [4,5,6]\n",
        "y = np.array(testList)\n",
        "\n",
        "print(x)\n",
        "print(y)\n",
        "print(type(x))\n",
        "print(type(y))"
      ],
      "metadata": {
        "colab": {
          "base_uri": "https://localhost:8080/"
        },
        "id": "3B9injtin9vi",
        "outputId": "e085b4f8-292e-4497-a76d-dd811d732f7c"
      },
      "execution_count": null,
      "outputs": [
        {
          "output_type": "stream",
          "name": "stdout",
          "text": [
            "[1 2 3]\n",
            "[4 5 6]\n",
            "<class 'numpy.ndarray'>\n",
            "<class 'numpy.ndarray'>\n"
          ]
        }
      ]
    },
    {
      "cell_type": "markdown",
      "source": [
        "This array function has some other possibilities:"
      ],
      "metadata": {
        "id": "fdi02IDrqHoY"
      }
    },
    {
      "cell_type": "code",
      "source": [
        "x = np.array([(1,2,3),(4,5,6)])\n",
        "print(x)\n",
        "y = np.array([1,2,3], dtype=float)\n",
        "print(y)"
      ],
      "metadata": {
        "colab": {
          "base_uri": "https://localhost:8080/"
        },
        "id": "jmVy1pn0pWQp",
        "outputId": "72fd2208-679f-4441-b01b-2c9e827ea81a"
      },
      "execution_count": null,
      "outputs": [
        {
          "output_type": "stream",
          "name": "stdout",
          "text": [
            "[[1 2 3]\n",
            " [4 5 6]]\n",
            "[1. 2. 3.]\n"
          ]
        }
      ]
    },
    {
      "cell_type": "markdown",
      "source": [
        "You can also create ndarrays full of zeros, ones, or \"empty\" with the following functions:"
      ],
      "metadata": {
        "id": "7N0gohnOqed1"
      }
    },
    {
      "cell_type": "code",
      "source": [
        "x=np.zeros((3, 4))\n",
        "y=np.ones((2, 3, 4), dtype=np.int16)\n",
        "z=np.empty((2, 3))\n",
        "\n",
        "print(x)\n",
        "print(y)\n",
        "print(z)"
      ],
      "metadata": {
        "colab": {
          "base_uri": "https://localhost:8080/"
        },
        "id": "GWhPPxX1qQmH",
        "outputId": "76b38560-2bba-4dd6-f7f4-1c214231edf9"
      },
      "execution_count": null,
      "outputs": [
        {
          "output_type": "stream",
          "name": "stdout",
          "text": [
            "[[0. 0. 0. 0.]\n",
            " [0. 0. 0. 0.]\n",
            " [0. 0. 0. 0.]]\n",
            "[[[1 1 1 1]\n",
            "  [1 1 1 1]\n",
            "  [1 1 1 1]]\n",
            "\n",
            " [[1 1 1 1]\n",
            "  [1 1 1 1]\n",
            "  [1 1 1 1]]]\n",
            "[[4.99912485e-310 0.00000000e+000 0.00000000e+000]\n",
            " [0.00000000e+000 0.00000000e+000 0.00000000e+000]]\n"
          ]
        }
      ]
    },
    {
      "cell_type": "markdown",
      "source": [
        "The arrange function we used earlier is similar to pythons built in range function but in array form"
      ],
      "metadata": {
        "id": "t5wZvPT7GBct"
      }
    },
    {
      "cell_type": "code",
      "source": [
        "x=np.arange(10, 30, 5)\n",
        "y=np.arange(0, 2, 0.3)\n",
        "\n",
        "print(x)\n",
        "print(y)"
      ],
      "metadata": {
        "colab": {
          "base_uri": "https://localhost:8080/"
        },
        "id": "KQxe7BBtqsUf",
        "outputId": "de830aeb-d36a-4ef8-a840-68f1c7db58dc"
      },
      "execution_count": null,
      "outputs": [
        {
          "output_type": "stream",
          "name": "stdout",
          "text": [
            "[10 15 20 25]\n",
            "[0.  0.3 0.6 0.9 1.2 1.5 1.8]\n"
          ]
        }
      ]
    },
    {
      "cell_type": "markdown",
      "source": [
        "The cool things about numpy is that operations are preformed elementwise and a new array is created and filled with the result\n"
      ],
      "metadata": {
        "id": "Gt1-Q9BqHAi0"
      }
    },
    {
      "cell_type": "code",
      "source": [
        "a = np.array([20, 30, 40, 50])\n",
        "b = np.arange(4)\n",
        "print(a)\n",
        "print(b)\n",
        "c = a - b\n",
        "print(c)\n",
        "print(b**2)\n",
        "print(a<40)"
      ],
      "metadata": {
        "colab": {
          "base_uri": "https://localhost:8080/"
        },
        "id": "y0vB82tMGQo7",
        "outputId": "da38acc2-1661-4fad-db89-79f55a55c526"
      },
      "execution_count": null,
      "outputs": [
        {
          "output_type": "stream",
          "name": "stdout",
          "text": [
            "[20 30 40 50]\n",
            "[0 1 2 3]\n",
            "[20 29 38 47]\n",
            "[0 1 4 9]\n",
            "[ True  True False False]\n"
          ]
        }
      ]
    },
    {
      "cell_type": "markdown",
      "source": [
        "The * operator work elementwise in numpy, however numpy has an @ operator, or the dot() function to calculate matrix dot product"
      ],
      "metadata": {
        "id": "Y7DG-YfMZkpn"
      }
    },
    {
      "cell_type": "code",
      "source": [
        "A = np.array([[1, 1],\n",
        "              [0, 1]])\n",
        "B = np.array([[2, 0],\n",
        "              [3, 4]])\n",
        "\n",
        "print(A*B)\n",
        "print(A@B)\n",
        "print(A.dot(B))"
      ],
      "metadata": {
        "colab": {
          "base_uri": "https://localhost:8080/"
        },
        "id": "RJEdUjAdHNLh",
        "outputId": "86879534-5f94-4ecc-b51f-e63237fdbee5"
      },
      "execution_count": null,
      "outputs": [
        {
          "output_type": "stream",
          "name": "stdout",
          "text": [
            "[[2 0]\n",
            " [0 4]]\n",
            "[[5 4]\n",
            " [3 4]]\n",
            "[[5 4]\n",
            " [3 4]]\n"
          ]
        }
      ]
    },
    {
      "cell_type": "markdown",
      "source": [
        "Numpy offers many useful universal function that will operate elementwise on an array:"
      ],
      "metadata": {
        "id": "fMdmhkeJaF8x"
      }
    },
    {
      "cell_type": "code",
      "source": [
        "B = np.arange(3)\n",
        "C = np.array([1,1,1])\n",
        "print(B)\n",
        "print(np.sqrt(B))\n",
        "print(np.add(B,C))\n"
      ],
      "metadata": {
        "colab": {
          "base_uri": "https://localhost:8080/"
        },
        "id": "ZB6z7wXLZv5H",
        "outputId": "b7972fd8-8ea7-4d9c-b390-3f7f564e2625"
      },
      "execution_count": null,
      "outputs": [
        {
          "output_type": "stream",
          "name": "stdout",
          "text": [
            "[0 1 2]\n",
            "[0.         1.         1.41421356]\n",
            "[1 2 3]\n"
          ]
        }
      ]
    },
    {
      "cell_type": "markdown",
      "source": [
        "### Indexing, Iterating, Slicing\n",
        "\n",
        "For one dimensional arrays, it works similar to python lists\n",
        "\n",
        "Lst[ Initial : End : IndexJump ]"
      ],
      "metadata": {
        "id": "dSxVC89DeAPN"
      }
    },
    {
      "cell_type": "code",
      "source": [
        "x = np.arange(10)\n",
        "print(x)\n",
        "print(x[2])\n",
        "print(x[0:4])\n",
        "print(x[::-1])\n",
        "print(x[0:8:2])\n"
      ],
      "metadata": {
        "colab": {
          "base_uri": "https://localhost:8080/"
        },
        "id": "DzJ2lfo8dVY8",
        "outputId": "691ff2f6-45d4-442a-9a72-45e64c8b300a"
      },
      "execution_count": null,
      "outputs": [
        {
          "output_type": "stream",
          "name": "stdout",
          "text": [
            "[0 1 2 3 4 5 6 7 8 9]\n",
            "2\n",
            "[0 1 2 3]\n",
            "[9 8 7 6 5 4 3 2 1 0]\n",
            "[0 2 4 6]\n"
          ]
        }
      ]
    },
    {
      "cell_type": "markdown",
      "source": [
        "For multidimensional arrays, each axis has its own index"
      ],
      "metadata": {
        "id": "FHOtDMxgiupE"
      }
    },
    {
      "cell_type": "code",
      "source": [
        "def f(x, y):\n",
        "    return 10 * x + y\n",
        "\n",
        "x = np.fromfunction(f, (5, 4), dtype=int)\n",
        "print(x)\n",
        "print(x[1,3])\n",
        "print(x[0:5,2]) # each row in the third column of b\n",
        "print(x[1:3, :]) # each column in the second and third row of b\n"
      ],
      "metadata": {
        "colab": {
          "base_uri": "https://localhost:8080/"
        },
        "id": "_g0_xV_xfF9g",
        "outputId": "bda2b59b-fb73-44b6-8f13-bb03ca075ca1"
      },
      "execution_count": null,
      "outputs": [
        {
          "output_type": "stream",
          "name": "stdout",
          "text": [
            "[[ 0  1  2  3]\n",
            " [10 11 12 13]\n",
            " [20 21 22 23]\n",
            " [30 31 32 33]\n",
            " [40 41 42 43]]\n",
            "13\n",
            "[ 2 12 22 32 42]\n",
            "[[10 11 12 13]\n",
            " [20 21 22 23]]\n"
          ]
        }
      ]
    },
    {
      "cell_type": "markdown",
      "source": [
        "Numpy has a variety of useful functions that operate on arrays\n",
        "\n"
      ],
      "metadata": {
        "id": "YD10w9ZLoIZy"
      }
    },
    {
      "cell_type": "code",
      "source": [
        "x = np.arange(20).reshape(5, 4)\n",
        "print(x)\n",
        "\n",
        "#Max/Min\n",
        "print(np.argmax(x))\n",
        "print(np.argmin(x))\n",
        "print(np.argmax(x,axis=1))\n",
        "print(np.argmax(x,axis=0))"
      ],
      "metadata": {
        "colab": {
          "base_uri": "https://localhost:8080/"
        },
        "id": "tXUGZZJgkRIw",
        "outputId": "0e91312e-3e19-4062-b55c-47347ac7b91b"
      },
      "execution_count": null,
      "outputs": [
        {
          "output_type": "stream",
          "name": "stdout",
          "text": [
            "[[ 0  1  2  3]\n",
            " [ 4  5  6  7]\n",
            " [ 8  9 10 11]\n",
            " [12 13 14 15]\n",
            " [16 17 18 19]]\n",
            "19\n",
            "0\n",
            "[3 3 3 3 3]\n",
            "[4 4 4 4]\n"
          ]
        }
      ]
    },
    {
      "cell_type": "code",
      "source": [
        "#Sorting\n",
        "y = np.array([\n",
        "    [3, 7, 1],\n",
        "    [10, 3, 2],\n",
        "    [5, 6, 7]\n",
        "])\n",
        "\n",
        "print(np.sort(y))\n",
        "print(np.sort(y,axis=None))\n",
        "print(np.sort(y, axis=0))\n",
        "print(np.argsort(y))\n"
      ],
      "metadata": {
        "colab": {
          "base_uri": "https://localhost:8080/"
        },
        "id": "SPmUEJsqoPdv",
        "outputId": "5e67b459-0ec7-46da-96cc-8fa59c427dfe"
      },
      "execution_count": null,
      "outputs": [
        {
          "output_type": "stream",
          "name": "stdout",
          "text": [
            "[[ 1  3  7]\n",
            " [ 2  3 10]\n",
            " [ 5  6  7]]\n",
            "[ 1  2  3  3  5  6  7  7 10]\n",
            "[[ 3  3  1]\n",
            " [ 5  6  2]\n",
            " [10  7  7]]\n",
            "[[2 0 1]\n",
            " [2 1 0]\n",
            " [0 1 2]]\n"
          ]
        }
      ]
    },
    {
      "cell_type": "code",
      "source": [
        "#Mean\n",
        "x = np.array([3, 2, 8, 9])\n",
        "print(np.mean(x))"
      ],
      "metadata": {
        "colab": {
          "base_uri": "https://localhost:8080/"
        },
        "id": "KqgQPA_ZqyFW",
        "outputId": "b03656a0-a4b5-4a34-8b27-d25df110f9f0"
      },
      "execution_count": null,
      "outputs": [
        {
          "output_type": "stream",
          "name": "stdout",
          "text": [
            "5.5\n"
          ]
        }
      ]
    },
    {
      "cell_type": "markdown",
      "source": [
        "Numpy arrays can also be cast as or converted to python lists:"
      ],
      "metadata": {
        "id": "dTMVKEdssHHc"
      }
    },
    {
      "cell_type": "code",
      "source": [
        "x = np.array([[1, 2, 3, 4, 5],\n",
        "                   [6, 7, 8, 9, 10],\n",
        "                   [11, 12, 13, 14, 15],\n",
        "                   [16, 17, 18, 19, 20]\n",
        "                   ])\n",
        "print(list(x))\n",
        "print(x.tolist())"
      ],
      "metadata": {
        "colab": {
          "base_uri": "https://localhost:8080/"
        },
        "id": "JHUv4f2qsCBW",
        "outputId": "aa0f3283-33e7-46d3-f208-b20b42435c0e"
      },
      "execution_count": null,
      "outputs": [
        {
          "output_type": "stream",
          "name": "stdout",
          "text": [
            "[array([1, 2, 3, 4, 5]), array([ 6,  7,  8,  9, 10]), array([11, 12, 13, 14, 15]), array([16, 17, 18, 19, 20])]\n",
            "[[1, 2, 3, 4, 5], [6, 7, 8, 9, 10], [11, 12, 13, 14, 15], [16, 17, 18, 19, 20]]\n"
          ]
        }
      ]
    },
    {
      "cell_type": "code",
      "source": [
        "#Using this, how can we write some code to check for the presence of a list in a numpy array?\n",
        "print([1,2,3,4,5] in x.tolist())"
      ],
      "metadata": {
        "colab": {
          "base_uri": "https://localhost:8080/"
        },
        "id": "O-xileTZu4qH",
        "outputId": "921df64f-1bde-4c3c-e326-aba873e81d00"
      },
      "execution_count": null,
      "outputs": [
        {
          "output_type": "stream",
          "name": "stdout",
          "text": [
            "True\n"
          ]
        }
      ]
    },
    {
      "cell_type": "markdown",
      "source": [
        "# Matplotlib\n",
        "\n",
        "Probably the most common python package used for plotting and viewing data. It can get pretty complex so we will just show some simple examples"
      ],
      "metadata": {
        "id": "yZ8BBQJMweCo"
      }
    },
    {
      "cell_type": "code",
      "source": [
        "import matplotlib.pyplot as plt\n"
      ],
      "metadata": {
        "id": "yrn48fFrvjE8"
      },
      "execution_count": null,
      "outputs": []
    },
    {
      "cell_type": "code",
      "source": [
        "x = [1, 2, 3, 4, 5]\n",
        "y = [2, 3, 5, 7, 11]\n",
        "\n",
        "plt.plot(x, y)\n",
        "plt.title('Simple Line Plot')\n",
        "plt.xlabel('X Axis Label')\n",
        "plt.ylabel('Y Axis Label')\n",
        "plt.show()"
      ],
      "metadata": {
        "colab": {
          "base_uri": "https://localhost:8080/",
          "height": 472
        },
        "id": "IW8QDfiwwiaw",
        "outputId": "1e42675b-cd4b-4936-80c9-eb9b25ea793f"
      },
      "execution_count": null,
      "outputs": [
        {
          "output_type": "display_data",
          "data": {
            "text/plain": [
              "<Figure size 640x480 with 1 Axes>"
            ],
            "image/png": "[encoded data removed]"
          },
          "metadata": {}
        }
      ]
    },
    {
      "cell_type": "markdown",
      "source": [
        "You can also save the plot as an image with: plt.savefig('img.png')"
      ],
      "metadata": {
        "id": "LsXYxYPxw9Mw"
      }
    },
    {
      "cell_type": "code",
      "source": [
        "#Scatter plot\n",
        "x = np.random.randn(100)\n",
        "y = x+np.random.randn(100)*0.5\n",
        "plt.scatter(x, y)\n",
        "plt.title('Scatter Plot')\n",
        "plt.xlabel('X Value')\n",
        "plt.ylabel('Y Value')\n",
        "plt.show()"
      ],
      "metadata": {
        "colab": {
          "base_uri": "https://localhost:8080/",
          "height": 472
        },
        "id": "Jx6KWta7wyRD",
        "outputId": "69972996-9e80-4a46-e4a6-5dc969d3b234"
      },
      "execution_count": null,
      "outputs": [
        {
          "output_type": "display_data",
          "data": {
            "text/plain": [
              "<Figure size 640x480 with 1 Axes>"
            ],
            "image/png": "[encoded data removed]"
          },
          "metadata": {}
        }
      ]
    },
    {
      "cell_type": "code",
      "source": [
        "#Histogram\n",
        "data = np.random.randn(1000)\n",
        "# print(data)\n",
        "\n",
        "plt.hist(data, bins=50)\n",
        "plt.title('Histogram')\n",
        "plt.xlabel('Value')\n",
        "plt.ylabel('Frequency')\n",
        "plt.show()"
      ],
      "metadata": {
        "colab": {
          "base_uri": "https://localhost:8080/",
          "height": 472
        },
        "id": "Anoe5oZTxQGt",
        "outputId": "8ae08daa-3e08-47e9-9b68-216acd41eaf3"
      },
      "execution_count": null,
      "outputs": [
        {
          "output_type": "display_data",
          "data": {
            "text/plain": [
              "<Figure size 640x480 with 1 Axes>"
            ],
            "image/png": "[encoded data removed]"
          },
          "metadata": {}
        }
      ]
    },
    {
      "cell_type": "markdown",
      "source": [
        "Matplotlib plots can be broken down into figure, axes, and also subplots.\n",
        "Figure(fig) refers to the whole window where all plots will be drawn.\n",
        "Axes(ax) refers to the part of the figure where data is plotted, it has elelments to modify labes, ticks ranges, and more.\n",
        "Subplots are used to arrange multiple plots in a single figure."
      ],
      "metadata": {
        "id": "fp8poU0Cxv7Z"
      }
    },
    {
      "cell_type": "code",
      "source": [
        "fig, ax = plt.subplots()  # Creates a figure and a single subplot\n",
        "\n",
        "x = np.linspace(0, 10, 100)\n",
        "y = np.sin(x)\n",
        "\n",
        "ax.plot(x, y)  # Plotting on the 'ax' object\n",
        "ax.set_title('Single Plot Example')  # Setting title\n",
        "ax.set_xlabel('x')  # Setting x-axis label\n",
        "ax.set_ylabel('sin(x)')  # Setting y-axis label\n",
        "\n",
        "plt.show()"
      ],
      "metadata": {
        "colab": {
          "base_uri": "https://localhost:8080/",
          "height": 472
        },
        "id": "4y6TFkbyxmCP",
        "outputId": "0b31a521-d89c-41ca-98a9-da3b204f4f56"
      },
      "execution_count": null,
      "outputs": [
        {
          "output_type": "display_data",
          "data": {
            "text/plain": [
              "<Figure size 640x480 with 1 Axes>"
            ],
            "image/png": "[encoded data removed]"
          },
          "metadata": {}
        }
      ]
    },
    {
      "cell_type": "code",
      "source": [
        "fig, axs = plt.subplots(2, 2)  # Creates a figure and a 2x2 grid of subplots\n",
        "\n",
        "# Data for plotting\n",
        "x = np.linspace(0, 10, 100)\n",
        "y1 = np.sin(x)\n",
        "y2 = np.cos(x)\n",
        "\n",
        "# Top-left subplot\n",
        "axs[0, 0].plot(x, y1)\n",
        "axs[0, 0].set_title('sin(x)')\n",
        "\n",
        "# Top-right subplot\n",
        "axs[0, 1].plot(x, y2)\n",
        "axs[0, 1].set_title('cos(x)')\n",
        "\n",
        "# Bottom-left subplot (empty)\n",
        "axs[1, 0].set_visible(False)  # Hides the subplot\n",
        "\n",
        "# Bottom-right subplot with a scatter\n",
        "axs[1, 1].scatter(x, y1)\n",
        "axs[1, 1].set_title('Scatter sin(x)')\n",
        "\n",
        "# Adjust layout to prevent overlapping\n",
        "plt.tight_layout()\n",
        "\n",
        "plt.show()"
      ],
      "metadata": {
        "colab": {
          "base_uri": "https://localhost:8080/",
          "height": 486
        },
        "id": "YWtX669IyLzC",
        "outputId": "9f864bb4-d3f1-4605-f26e-2a1af85b4f40"
      },
      "execution_count": null,
      "outputs": [
        {
          "output_type": "display_data",
          "data": {
            "text/plain": [
              "<Figure size 640x480 with 4 Axes>"
            ],
            "image/png": "[encoded data removed]"
          },
          "metadata": {}
        }
      ]
    },
    {
      "cell_type": "code",
      "source": [],
      "metadata": {
        "id": "EJJeXtw9yOu7"
      },
      "execution_count": null,
      "outputs": []
    }
  ]
}
