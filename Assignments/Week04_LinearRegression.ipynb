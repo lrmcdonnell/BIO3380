{
  "cells": [
    {
      "cell_type": "markdown",
      "source": [
        "# Linear Regression\n",
        "\n",
        "The numeric value of each target is a linear combination of the k features of X, plus the β term to adjust the “baseline” value of the prediction.\n",
        "\n",
        "![image](https://i.imgur.com/nTA4VCl.png)\n",
        "\n",
        "Linear regression is a dot product:\n",
        "\n",
        "![image](https://i.imgur.com/zRWIWKb.png)\n",
        "![image](https://i.imgur.com/4333KIJ.png)\n",
        "\n",
        "![image](https://i.imgur.com/etK7KG3.png)\n",
        "\n",
        "Performing the matrix multiplication of this batch Xbatch with W gives a vector of predictions for the batch(forward pass):\n",
        "\n",
        "![image](https://i.imgur.com/EwaXzSz.png)"
      ],
      "metadata": {
        "id": "fykt6AeCkQmw"
      }
    },
    {
      "cell_type": "markdown",
      "source": [
        "Calculating the gradients allows us to update the wieghts in the backwards pass.\n",
        "\n",
        "The math behind each step:\n",
        "\n",
        "![image](https://i.imgur.com/z2jzROM.png)\n",
        "\n",
        "## Second factor:\n",
        "\n",
        "![image](https://i.imgur.com/P4tXTHT.png)\n",
        "![image](https://i.imgur.com/xxFGERe.png)\n",
        "\n",
        "![image](https://i.imgur.com/JK64EQG.png)\n"
      ],
      "metadata": {
        "id": "-QOwOej_A99w"
      }
    },
    {
      "cell_type": "markdown",
      "metadata": {
        "tags": [],
        "id": "6QGTrWn48n6u"
      },
      "source": [
        "# Manual linear regression"
      ]
    },
    {
      "cell_type": "code",
      "source": [
        "import numpy as np\n",
        "import pandas as pd\n",
        "from numpy import ndarray\n",
        "import matplotlib.pyplot as plt\n",
        "from typing import Callable, Dict, Tuple, List\n",
        "\n",
        "np.set_printoptions(precision=4)"
      ],
      "metadata": {
        "id": "CjNpPtEe_CUv"
      },
      "execution_count": 1,
      "outputs": []
    },
    {
      "cell_type": "code",
      "source": [
        "from sklearn import datasets\n",
        "\n",
        "iris = datasets.load_iris()\n",
        "data = iris.data[:,[0]]\n",
        "# print(data)\n",
        "target = iris.data[:,[2]]\n",
        "# print(target)\n",
        "features = iris.feature_names"
      ],
      "metadata": {
        "id": "cgPzE7mP_Pmb"
      },
      "execution_count": 2,
      "outputs": []
    },
    {
      "cell_type": "code",
      "source": [
        "from sklearn.preprocessing import StandardScaler\n",
        "s = StandardScaler()\n",
        "data = s.fit_transform(data)\n",
        "from sklearn.model_selection import train_test_split\n",
        "X_train, X_test, y_train, y_test = train_test_split(data, target, test_size=0.3, random_state=104)\n",
        "\n",
        "y_train, y_test = y_train.reshape(-1, 1), y_test.reshape(-1, 1)\n"
      ],
      "metadata": {
        "id": "v9PSj45sN2aW"
      },
      "execution_count": 3,
      "outputs": []
    },
    {
      "cell_type": "code",
      "execution_count": 4,
      "metadata": {
        "id": "YLGeWBLY8n6o"
      },
      "outputs": [],
      "source": [
        "%load_ext autoreload\n",
        "%autoreload 2"
      ]
    },
    {
      "cell_type": "code",
      "execution_count": 5,
      "metadata": {
        "id": "MSg5b_1l8n6o"
      },
      "outputs": [],
      "source": [
        "TEST_ALL = False"
      ]
    },
    {
      "cell_type": "markdown",
      "metadata": {
        "id": "OUsahGfN8n6w"
      },
      "source": [
        "# Examine the following functions used to build linear regression from scratch:"
      ]
    },
    {
      "cell_type": "markdown",
      "metadata": {
        "tags": [],
        "id": "Rdcbqsww8n6w"
      },
      "source": [
        "### Loss Gradient & Forward Loss:"
      ]
    },
    {
      "cell_type": "code",
      "execution_count": 6,
      "metadata": {
        "id": "RBEbH_5s8n6x"
      },
      "outputs": [],
      "source": [
        "def forward_loss(X, y, weights, bias):\n",
        "    '''\n",
        "    Generate predictions and calculate loss for a step-by-step linear regression\n",
        "    (used mostly during inference).\n",
        "    '''\n",
        "    N = np.dot(X, weights)\n",
        "\n",
        "    P = N + bias\n",
        "\n",
        "    loss = np.mean(np.power(y - P, 2))\n",
        "\n",
        "    return N, P, loss"
      ]
    },
    {
      "cell_type": "code",
      "execution_count": 7,
      "metadata": {
        "id": "9lYMLamc8n6x"
      },
      "outputs": [],
      "source": [
        "def loss_gradients(N, P, X, y, weights, bias):\n",
        "    '''\n",
        "    Compute dLdW and dLdB for the step-by-step linear regression model.\n",
        "    '''\n",
        "    batch_size = X.shape[0]\n",
        "\n",
        "    dLdP = -2 * (y - P)\n",
        "\n",
        "    dPdN = np.ones_like(N)\n",
        "\n",
        "    dPdB = np.ones_like(bias)\n",
        "\n",
        "    dLdN = dLdP * dPdN\n",
        "\n",
        "    dNdW = np.transpose(X, (1, 0))\n",
        "\n",
        "    # need to use matrix multiplication here,\n",
        "    # with dNdW on the left (see note at the end of last chapter)\n",
        "    dLdW = np.dot(dNdW, dLdN)\n",
        "\n",
        "    # need to sum along dimension representing the batch size:\n",
        "    # see note near the end of the chapter\n",
        "    dLdB = (dLdP * dPdB).sum(axis=0)\n",
        "\n",
        "    weights = dLdW\n",
        "    bias= dLdB\n",
        "\n",
        "    return weights, bias"
      ]
    },
    {
      "cell_type": "markdown",
      "metadata": {
        "id": "phMXrBmE8n6y"
      },
      "source": [
        "### Helpers:"
      ]
    },
    {
      "cell_type": "code",
      "execution_count": 8,
      "metadata": {
        "id": "4Dyv3bXV8n6z"
      },
      "outputs": [],
      "source": [
        "def init_weights(n_in):\n",
        "    '''\n",
        "    Initialize weights on first forward pass of model.\n",
        "    '''\n",
        "    W = np.random.randn(n_in, 1)\n",
        "    B = np.random.randn(1, 1)\n",
        "\n",
        "    return W,B"
      ]
    },
    {
      "cell_type": "code",
      "source": [
        "def init_weights_ones(n_in):\n",
        "    W = np.ones((n_in, 1))\n",
        "    B = np.ones((1, 1))\n",
        "\n",
        "    return W,B\n"
      ],
      "metadata": {
        "id": "h30uzGTC-fTC"
      },
      "execution_count": 9,
      "outputs": []
    },
    {
      "cell_type": "code",
      "execution_count": 10,
      "metadata": {
        "id": "SWpWT5nqhFTe"
      },
      "outputs": [],
      "source": [
        "def generate_batch(X, y, start=0, batch_size=10):\n",
        "    '''\n",
        "    Generate batch from X and y, given a start position\n",
        "    '''\n",
        "    if start+batch_size > X.shape[0]:\n",
        "        batch_size = X.shape[0] - start\n",
        "\n",
        "    X_batch, y_batch = X[start:start+batch_size], y[start:start+batch_size]\n",
        "\n",
        "    return X_batch, y_batch"
      ]
    },
    {
      "cell_type": "markdown",
      "metadata": {
        "tags": [],
        "id": "deIlvKY_8n6z"
      },
      "source": [
        "## Using the code snippets in the blocks given below, arrange them in the proper order to run the linear regression model. You will have to copy the code from the blocks and paste them into the code block with the for loop.\n",
        "\n",
        "##NOTE: All code snippets will go inside the same codeblock as the for loop, but not all snippets are meant to go inside the loop itself. It is up to you to determine the location for all snippets.\n",
        "\n",
        "#LR Code Blocks:\n"
      ]
    },
    {
      "cell_type": "code",
      "source": [
        "# Calculate gradient\n",
        "W, B = loss_gradients(N,P, X_batch, y_batch, weights, bias)"
      ],
      "metadata": {
        "id": "KJFqy3Cvdg4o"
      },
      "execution_count": null,
      "outputs": []
    },
    {
      "cell_type": "code",
      "source": [
        "#Initialize Variables\n",
        "X=X_train\n",
        "y=y_train\n",
        "n_iter = 1000\n",
        "learning_rate = 0.001\n",
        "batch_size = 100\n",
        "start = 0\n",
        "losses = []"
      ],
      "metadata": {
        "id": "mG7c9BEACNdo"
      },
      "execution_count": null,
      "outputs": []
    },
    {
      "cell_type": "code",
      "source": [
        "#GenerateBatch\n",
        "if start >= X.shape[0]:\n",
        "      # X, y = permute_data(X, y)\n",
        "      start = 0\n",
        "X_batch, y_batch = generate_batch(X, y, start, batch_size)\n",
        "start += batch_size"
      ],
      "metadata": {
        "id": "iL8NcjeUjSQP"
      },
      "execution_count": null,
      "outputs": []
    },
    {
      "cell_type": "code",
      "source": [
        "# Initialize weights\n",
        "weights, bias = init_weights(X.shape[1])\n",
        "\n",
        "#Deterministic weight initialization\n",
        "# weights, bias = init_weights_ones(X.shape[1])"
      ],
      "metadata": {
        "id": "LGlfvjrBaDiD"
      },
      "execution_count": null,
      "outputs": []
    },
    {
      "cell_type": "code",
      "source": [
        "#Update the weights\n",
        "weights -=learning_rate * W\n",
        "bias -= learning_rate * B"
      ],
      "metadata": {
        "id": "_mYlqay0rklr"
      },
      "execution_count": null,
      "outputs": []
    },
    {
      "cell_type": "code",
      "source": [
        "# Calculate forward loss\n",
        "N, P, loss = forward_loss(X_batch, y_batch, weights, bias)\n",
        "losses.append(loss)"
      ],
      "metadata": {
        "id": "J3HXbBvfddLd"
      },
      "execution_count": null,
      "outputs": []
    },
    {
      "cell_type": "markdown",
      "source": [
        "# For loop block to paste the code:"
      ],
      "metadata": {
        "id": "BLjsVoIjBt4J"
      }
    },
    {
      "cell_type": "code",
      "source": [
        "#Initialize Variables\n",
        "X=X_train\n",
        "y=y_train\n",
        "n_iter = 1000\n",
        "learning_rate = 0.001\n",
        "batch_size = 100\n",
        "start = 0\n",
        "losses = []\n",
        "\n",
        "\n",
        "# Initialize weights\n",
        "weights, bias = init_weights(X.shape[1])\n",
        "\n",
        "#Deterministic weight initialization\n",
        "# weights, bias = init_weights_ones(X.shape[1])\n",
        "\n",
        "\n",
        "for i in range(n_iter):\n",
        "  #GenerateBatch\n",
        "  if start >= X.shape[0]:\n",
        "    # X, y = permute_data(X, y)\n",
        "    start = 0\n",
        "  X_batch, y_batch = generate_batch(X, y, start, batch_size)\n",
        "  start += batch_size\n",
        "\n",
        "  # Calculate forward loss\n",
        "  N, P, loss = forward_loss(X_batch, y_batch, weights, bias)\n",
        "  losses.append(loss)\n",
        "\n",
        "  # Calculate gradient\n",
        "  W, B = loss_gradients(N,P, X_batch, y_batch, weights, bias)\n",
        "\n",
        "  #Update the weights\n",
        "  weights -=learning_rate * W\n",
        "  bias -= learning_rate * B"
      ],
      "metadata": {
        "id": "7xbim0YaAj3f"
      },
      "execution_count": 23,
      "outputs": []
    },
    {
      "cell_type": "markdown",
      "source": [
        "#Analysis"
      ],
      "metadata": {
        "id": "nVbOcQPftgSe"
      }
    },
    {
      "cell_type": "code",
      "source": [
        "plt.plot(list(range(1000)), losses);"
      ],
      "metadata": {
        "colab": {
          "base_uri": "https://localhost:8080/",
          "height": 430
        },
        "id": "JIM9hPu4n9ju",
        "outputId": "979b9530-a25e-4b5c-a286-b059cbf338a1"
      },
      "execution_count": 24,
      "outputs": [
        {
          "output_type": "display_data",
          "data": {
            "text/plain": [
              "<Figure size 640x480 with 1 Axes>"
            ],
            "image/png": "[encoded data removed]"
          },
          "metadata": {}
        }
      ]
    },
    {
      "cell_type": "code",
      "execution_count": null,
      "metadata": {
        "scrolled": true,
        "colab": {
          "base_uri": "https://localhost:8080/",
          "height": 468
        },
        "id": "C0zWIfRW8n61",
        "outputId": "c1ec1549-e7cb-45e4-8909-f0546fde9c89"
      },
      "outputs": [
        {
          "output_type": "stream",
          "name": "stdout",
          "text": [
            "[35.15153431261921, 37.909031506036165, 33.690964583399115, 36.533577666344726, 32.29222303218621, 35.21184737582408, 30.95269428773101, 33.94167466612711, 29.669873613387168, 32.72098246304341, 28.44136222524673, 31.547778902130084, 27.264862808515947, 30.420153797890936, 26.13817522373212, 29.3362752600839, 25.059192394778496, 28.29438645100596, 24.02589637099475, 27.292802477862086, 23.0363545560076, 26.329907414571856, 22.08871609621839, 25.404151447604, 21.18120842218428, 24.51404814065527, 20.312133936415947, 23.658171813207804, 19.479866841389693, 22.83515502820649, 18.682850101834457, 22.04368618429754, 17.919592535606174, 21.282507208260135, 17.188666027702887, 20.5504113434461, 16.488702862204914, 19.846241030217556, 15.818393167145414, 19.16888587454064, 15.176482467528446, 18.517280701053984, 14.561769341914223, 17.890403687084937, 13.973103178185475, 17.28727457423402, 13.409382024294592, 16.70695295428952, 12.869550529969354, 16.148536626369857, 12.35259797552544, 15.611160022320922, 11.85755638409701, 15.093992697520154, 11.38349871375327, 14.596237884358192, 10.929537126118177, 14.117131105783276, 10.494821328254126, 13.655938846402723, 10.078536984707576, 13.211957278740872, 9.679904196745904, 12.784511042353113, 9.29817604594081, 12.37295207359195, 8.932637199373998, 11.976658483913159, 8.582602573856304, 11.595033484698456, 8.247416056662, 11.227504356655647, 7.9264492803857305, 10.87352146193842, 7.6191004496310155, 10.53255729720547, 7.324793217336228, 10.204105585913174, 7.042975608636888, 9.887680408207292, 6.7731189902521685, 9.582815366847496, 6.514717083468657, 9.289062787663998, 6.267285018876107, 9.005992953108212, 6.030358431088031, 8.733193367519561, 5.803492591754814, 8.470268052788024, 5.58626157924871, 8.216836873147216, 5.378257483468791, 7.9725348878856845, 5.179089644279441, 7.737011730814648, 4.988383922159202, 7.509931015379036, 4.805781999696823, 7.29096976434508, 4.630940712629182, 7.079817863042311, 4.463531409171018, 6.8761775351804655, 4.3032393364393355, 6.679762840302715, 4.149763052826016, 6.490299191975765, 4.0028138652207215, 6.3075228958550165, 3.8621152900326736, 6.131180706798795, 3.7274025370043744, 5.9610294042402945, 3.5984220148530026, 5.796835385058739, 3.4749308578159894, 5.638374273223057, 3.3566964722164414, 5.4854305455115435, 3.243496102201444, 5.337797172640162, 3.135116413842179, 5.195275275159856, 3.0313530968190987, 5.057673793510036, 2.9320104829482863, 4.9248091716408, 2.836901180836616, 4.796505053641142, 2.7458457259834845, 4.672591992833638, 2.658672245675744, 4.552907172818784, 2.5752161380501337, 4.4372941399735675, 2.495319764724, 4.325602546929543, 2.4188321564204047, 4.217687906575483, 2.345608731038082, 4.113411356148584, 2.2755110236398934, 4.012639430996393, 2.2084064278557305, 3.9152438476090383, 2.144167948217171, 3.821101295537956, 2.082673962961552, 3.7300932378333913, 2.0238079968627702, 3.6421057196481343, 1.9674585036647685, 3.5570291846697444, 1.913518657711676, 3.4747582990574677, 1.861886154385709, 3.3951917825736198, 1.8124630189804087, 3.318232246612035, 1.7651554236525393, 3.2437860388385973, 1.7198735121110689, 3.171763094170711, 1.676531231716105, 3.1020767918339316, 1.6350461726744792, 3.034643818244839, 1.5953394140319634, 2.9693840354796954, 1.557335376174741, 2.9062203550984176, 1.5209616795649707, 2.845078617102947, 1.4861490094468663, 2.7858874738183013, 1.4528309862709026, 2.7285782784934014, 1.4209440415944108, 2.673084978427142, 1.390427299227066, 2.619344012433319, 1.361222461399545, 2.5672942124657006, 1.3332736997430177, 2.5168767092319952, 1.3065275508761318, 2.4680348416325737, 1.2809328164047067, 2.420714069866547, 1.2564404671476448, 2.3748618920544518, 1.2330035514104045, 2.3304277642329225, 1.2105771071349727, 2.2873630235828126, 1.1891180777624841, 2.2456208147579293, 1.168585231651572, 2.205156019187072, 1.1489390849021661, 2.165925187227324, 1.1301418274408246, 2.1278864730516123, 1.1121572522297378, 2.0909995721584087, 1.0949506874674084, 2.0552256613960527, 1.0784889316545607, 2.0205273413986733, 1.0627401914042098, 1.9868685813349198, 1.0476740218799063, 1.9542146658748023, 1.0332612697510992, 1.922532144283883, 1.0194740185592506, 1.891788781557785, 1.006285536392824, 1.8619535115136, 0.9936702257735809, 1.832996391758229, 0.9816035756607444, 1.8048885604569693, 0.9700621154835379, 1.777602194828876, 0.959023371116389, 1.7511104712984065, 0.948465822714713, 1.725387527235806, 0.9383688643326542, 1.700408424221471, 0.9287127652474999, 1.676149112772194, 0.9194786329186476, 1.652586398469753, 0.9106483775120627, 1.6296979094347837, 0.9022046779240874, 1.607462065091204, 0.8941309492412421, 1.58585804616872, 0.886411311575356, 1.5648657658931184, 0.8790305602159113, 1.5444658423161148, 0.8719741370439548, 1.5246395717385002, 0.8652281031542696, 1.5053689031822497, 0.8587791126347658, 1.486636413869086, 0.8526143874541912, 1.4684252856647093, 0.8467216934113442, 1.4507192824496253, 0.8410893171009372, 1.4335027283790633, 0.8357060438531603, 1.4167604869960628, 0.8305611366058099, 1.4004779411632415, 0.82564431566958, 1.384640973780205, 0.8209457393487881, 1.3692359492549004, 0.8164559853813883, 1.3542496956985113, 0.8121660331636685, 1.3396694878147593, 0.8080672467264692, 1.3254830304556406, 0.8041513584311855, 1.3116784428168144, 0.8004104533551398, 1.298244243246903, 0.7968369543371953, 1.2851693346460722, 0.7934236076557271, 1.2724429904302337, 0.7901634693122307, 1.2600548410381889, 0.787049891894978, 1.2479948609599574, 0.7840765119982237, 1.2362533562654388, 0.7812372381734848, 1.224820952613382, 0.7785262393904143, 1.2136885837214748, 0.7759379339857477, 1.2028474802791456, 0.7734669790796908, 1.1922891592854028, 0.7711082604400076, 1.1820054137947973, 0.768856882774895, 1.1719883030552256, 0.766708160436519, 1.162230143022017, 0.7646576085178752, 1.1527234972333305, 0.762700934326341, 1.143461168032522, 0.7608340292180202, 1.1344361881237244, 0.7590529607776189, 1.1256418124474412, 0.7573539653292706, 1.1170715103634596, 0.7557334407643114, 1.1087189581289842, 0.7541879396726245, 1.1005780316602711, 0.7527141627647237, 1.0926427995666215, 0.751308952572283, 1.0849075164459825, 0.7499692874153652, 1.0773666164318565, 0.7486922756250567, 1.0700147069816464, 0.7474751500107327, 1.062846562896938, 0.7463152625616091, 1.0558571205666412, 0.7452100793726796, 1.049041472424243, 0.744157175785556, 1.042394861610798, 0.7431542317351305, 1.0359126768356146, 0.7421990272933607, 1.0295904474269266, 0.7412894384018458, 1.0234238385651264, 0.7404234327852146, 1.017408646691475, 0.739599066037683, 1.011540795085441, 0.7388144778754637, 1.0058163296041458, 0.738067888548011, 1.000231414577604, 0.7373575954013945, 0.9947823288537465, 0.7366819695873655, 0.9894654619874264, 0.7360394529119592, 0.9842773105678401, 0.7354285548177307, 0.9792144746790452, 0.7348478494939795, 0.9742736544884311, 0.7342959731095459, 0.9694516469582399, 0.7337716211630023, 0.9647453426754018, 0.7332735459452671, 0.960151722795163, 0.7328005541098983, 0.955667856094139, 0.7323515043465016, 0.9512908961286268, 0.7319253051529006, 0.9470180784941468, 0.7315209127018879, 0.9428467181823766, 0.7311373287985568, 0.9387742070317566, 0.7307735989243831, 0.9347980112682279, 0.7304288103643883, 0.9309156691326808, 0.7301020904138644, 0.927124788591834, 0.7297926046613025, 0.9234230451294014, 0.7294995553442919, 0.9198081796145077, 0.7292221797753085, 0.9162779962444704, 0.7289597488344326, 0.9128303605591286, 0.7287115655261625, 0.9094631975240588, 0.728476963597612, 0.9061744896800921, 0.7282553062154973, 0.9029622753566622, 0.7280459846994145, 0.8998246469465941, 0.7278484173090383, 0.8967597492400727, 0.7276620480829454, 0.893765777815571, 0.7274863457268878, 0.8908409774856401, 0.7273208025494137, 0.887983640795533, 0.7271649334428362, 0.8851921065727204, 0.7270182749076252, 0.882464758525402, 0.7268803841183851, 0.8798000238882487, 0.7267508380296581, 0.8771963721136184, 0.7266292325198601, 0.8746523136065874, 0.7265151815717387, 0.8721663985022146, 0.726408316487805, 0.8697372154834815, 0.7263082851392517, 0.8673633906384433, 0.7262147512469451, 0.8650435863551682, 0.7261273936931254, 0.8627765002530946, 0.726045905862517, 0.8605608641495003, 0.7259699950115983, 0.8583954430598153, 0.72589938166484, 0.8562790342305636, 0.725833799036765, 0.8542104662037715, 0.7257729924787355, 0.8521885979117156, 0.7257167189494191, 0.8502123178009235, 0.7256647465079266, 0.8482805429844029, 0.7256168538286599, 0.8463922184210801, 0.7255728297369518, 0.8445463161215061, 0.7255324727646072, 0.8427418343788894, 0.7254955907245088, 0.8409777970245669, 0.7254620003034727, 0.8392532527070676, 0.7254315266725777, 0.8375672741939271, 0.7254040031142304, 0.8359189576954738, 0.7253792706652503, 0.8343074222098155, 0.7253571777752947, 0.8327318088882898, 0.7253375799799755, 0.831191280420678, 0.7253203395880352, 0.8296850204394957, 0.7253053253819917, 0.8282122329426997, 0.7252924123316729, 0.826772141734191, 0.7252814813200985, 0.8253639898814955, 0.725272418881175, 0.823987039190045, 0.7252651169487123, 0.8226405696934831, 0.7252594726162667, 0.8213238791594664, 0.7252553879073618, 0.8200362826104293, 0.7252527695556337, 0.8187771118588051, 0.7252515287944875, 0.8175457150562305, 0.7252515811558508, 0.816341456256253, 0.7252528462776431, 0.8151637149900987, 0.7252552477195857, 0.8140118858550569, 0.7252587127869958, 0.8128853781150772, 0.7252631723622273, 0.8117836153131586, 0.7252685607434285, 0.8107060348951569, 0.7252748154903038, 0.8096520878446241, 0.7252818772765857, 0.8086212383283284, 0.7252896897489214, 0.8076129633520971, 0.7252981993919084, 0.8066267524266498, 0.7253073553990095, 0.8056621072431038, 0.7253171095491018, 0.8047185413578297, 0.7253274160884107, 0.8037955798863624, 0.7253382316176062, 0.8028927592060727, 0.7253495149838364, 0.8020096266673246, 0.7253612271774845, 0.8011457403128409, 0.725373331233454, 0.8003006686050241, 0.7253857921367789, 0.7994739901609704, 0.7253985767323805, 0.7986652934949461, 0.7254116536387868, 0.7978741767680777, 0.7254249931656548, 0.7971002475450464, 0.7254385672349141, 0.796343122557549, 0.7254523493053965, 0.795602427474335, 0.7254663143007879, 0.7948777966775932, 0.7254804385407635, 0.7941688730455165, 0.7254946996751724, 0.7934753077408285, 0.7255090766211337, 0.7927967600051127, 0.7255235495029254, 0.7921328969587474, 0.7255380995945409, 0.7914833934062917, 0.7255527092647999, 0.7908479316471413, 0.7255673619249048, 0.7902262012913077, 0.7255820419783322, 0.7896178990801582, 0.7255967347729636, 0.7890227287119715, 0.7256114265553584, 0.7884404006721623, 0.72562610442707, 0.787870632068035, 0.7256407563029252, 0.7873131464679355, 0.7256553708711756, 0.7867676737446668, 0.7256699375554427, 0.7862339499230468, 0.7256844464783779, 0.7857117170314756, 0.7256988884269631, 0.7852007229574121, 0.7257132548193794, 0.784700721306631, 0.7257275376733803, 0.7842114712661548, 0.7257417295760962, 0.7837327374707546, 0.7257558236552144, 0.783264289872917, 0.7257698135514719, 0.7828059036161787, 0.7257836933924046, 0.7823573589117225, 0.7257974577672958, 0.7819184409181564, 0.7258111017032763, 0.7814889396243732, 0.7258246206425198, 0.7810686497354042, 0.7258380104204886, 0.7806573705611932, 0.7258512672451868, 0.7802549059081902, 0.7258643876773685, 0.7798610639737039, 0.7258773686116687, 0.7794756572429171, 0.7258902072586082, 0.7790985023885133, 0.7259029011274393, 0.7787294201728145, 0.7259154480097917, 0.7783682353523874, 0.7259278459640867, 0.7780147765850304, 0.7259400933006839, 0.777668876339083, 0.7259521885677266, 0.7773303708049938, 0.7259641305376562, 0.776999099809087, 0.7259759181943702, 0.7766749067294614, 0.7259875507209859, 0.7763576384139717, 0.7259990274881916, 0.7760471451002262, 0.726010348043154, 0.7757432803375552, 0.7260215120989619, 0.7754459009108958, 0.726032519524573, 0.7751548667665332, 0.7260433703352553, 0.7748700409396584, 0.7260540646834853, 0.7745912894836902, 0.726064602850297, 0.7743184814013158, 0.7260749852370496, 0.7740514885771984, 0.7260852123576035, 0.77379018571232, 0.7260952848308814, 0.7735344502598999, 0.7261052033737991, 0.7732841623628655, 0.7261149687945487, 0.773039204792821, 0.7261245819862183, 0.7727994628904759, 0.7261340439207333, 0.7725648245075089, 0.7261433556431044, 0.7723351799498105, 0.7261525182659675, 0.7721104219220825, 0.726161532964403, 0.771890445473754, 0.7261704009710244, 0.7716751479461841, 0.726179123571316, 0.7714644289211059, 0.7261877020992192, 0.7712581901703031, 0.7261961379329454, 0.7710563356064603, 0.726204432491012, 0.7708587712351802, 0.7262125872284892, 0.7706654051081258, 0.7262206036334472, 0.7704761472772581, 0.7262284832235941, 0.7702909097501549, 0.7262362275430972, 0.77010960644636, 0.7262438381595784, 0.7699321531547674, 0.7262513166612756, 0.7697584674919851, 0.7262586646543607, 0.7695884688616734, 0.7262658837604111, 0.7694220784148272, 0.72627297561402, 0.769259219010977, 0.7262799418605502, 0.7690998151802872, 0.7262867841540112, 0.7689437930865315, 0.7262935041550648, 0.7687910804909233, 0.726300103529147, 0.768641606716777, 0.7263065839447015, 0.7684953026149809, 0.7263129470715234, 0.7683521005302678, 0.7263191945792005, 0.7682119342682537, 0.7263253281356544, 0.76807473906323, 0.7263313494057719, 0.7679404515466991, 0.7263372600501262, 0.767809009716621, 0.726343061723778, 0.7676803529073669, 0.7263487560751598, 0.7675544217603474, 0.7263543447450318, 0.7674311581953189, 0.7263598293655117, 0.7673105053823358, 0.7263652115591712, 0.7671924077143383, 0.7263704929381984, 0.7670768107803617, 0.7263756751036179, 0.7669636613393553, 0.7263807596445748, 0.7668529072945829, 0.7263857481376677, 0.7667444976686123, 0.7263906421463383, 0.7666383825788594, 0.7263954432203089, 0.7665345132136865, 0.7264001528950669, 0.7664328418090374, 0.7264047726913938, 0.7663333216255969, 0.7264093041149376, 0.7662359069264605, 0.7264137486558232, 0.7661405529553107, 0.7264181077883022, 0.7660472159150694, 0.7264223829704375, 0.7659558529470412, 0.7264265756438223, 0.7658664221105128, 0.7264306872333315, 0.7657788823628124, 0.7264347191469013, 0.7656931935398109, 0.7264386727753407, 0.7656093163368548, 0.7264425494921661, 0.765527212290131, 0.7264463506534642, 0.7654468437584381, 0.7264500775977774, 0.7653681739053608, 0.7264537316460136, 0.7652911666818512, 0.7264573141013732, 0.7652157868091816, 0.7264608262493008, 0.7651419997622819, 0.7264642693574533, 0.765069771753449, 0.726467644675685, 0.7649990697164044, 0.7264709534360521, 0.7649298612907176, 0.7264741968528279, 0.7648621148065617, 0.7264773761225389, 0.7647957992698127, 0.7264804924240085, 0.7647308843474705, 0.7264835469184177, 0.7646673403534066, 0.7264865407493751, 0.76460513823442, 0.726489475043, 0.7645442495566033, 0.7264923509080137, 0.7644846464920058, 0.7264951694358416, 0.7644263018055892, 0.7264979317007247, 0.7643691888424705, 0.7265006387598392, 0.7643132815154436, 0.7265032916534223, 0.764258554292773, 0.7265058914049063, 0.764204982186256, 0.72650843902106, 0.7641525407395435, 0.7265109354921342, 0.76410120601672, 0.7265133817920131, 0.7640509545911292, 0.726515778878373, 0.7640017635344423, 0.7265181276928423, 0.7639536104059711, 0.7265204291611673, 0.7639064732422056, 0.7265226841933818, 0.7638603305465852, 0.7265248936839798, 0.7638151612794893, 0.7265270585120911, 0.763770944848448, 0.7265291795416586, 0.7637276610985656, 0.7265312576216217, 0.7636852903031464, 0.7265332935860959, 0.7636438131545337, 0.7265352882545585, 0.7636032107551374, 0.7265372424320343, 0.7635634646086658, 0.7265391569092836, 0.7635245566115391, 0.7265410324629883, 0.7634864690444935, 0.7265428698559429, 0.7634491845643665, 0.7265446698372419, 0.76341268619606, 0.7265464331424704, 0.7633769573246745, 0.7265481604938939, 0.763341981687819, 0.7265498526006481, 0.7633077433680803, 0.7265515101589284, 0.7632742267856603, 0.7265531338521783, 0.7632414166911711, 0.7265547243512798, 0.7632092981585803, 0.7265562823147396, 0.7631778565783196, 0.7265578083888776, 0.7631470776505294, 0.7265593032080137, 0.7631169473784571, 0.7265607673946516, 0.7630874520619989, 0.7265622015596652, 0.7630585782913688, 0.7265636063024802, 0.7630303129409216, 0.7265649822112573, 0.763002643163092, 0.7265663298630705, 0.7629755563824767, 0.7265676498240897, 0.7629490402900359, 0.7265689426497554, 0.7629230828374224, 0.7265702088849555, 0.7628976722314327, 0.7265714490642012, 0.7628727969285748, 0.7265726637117973, 0.7628484456297606, 0.7265738533420152, 0.7628246072750968, 0.7265750184592618, 0.7628012710388059, 0.7265761595582457, 0.7627784263242421, 0.7265772771241452, 0.7627560627590204, 0.7265783716327696, 0.7627341701902485, 0.726579443550723, 0.7627127386798628, 0.7265804933355624, 0.7626917585000608, 0.7265815214359576, 0.7626712201288346, 0.726582528291846, 0.762651114245598, 0.7265835143345867, 0.7626314317269083, 0.7265844799871131, 0.7626121636422771, 0.7265854256640825, 0.7625933012500768, 0.7265863517720237, 0.7625748359935283, 0.7265872587094848, 0.7625567594967738, 0.7265881468671749, 0.7625390635610436, 0.7265890166281078, 0.7625217401608912, 0.7265898683677399, 0.7625047814405201, 0.7265907024541112, 0.7624881797101786, 0.7265915192479777, 0.7624719274426442, 0.7265923191029487, 0.7624560172697705, 0.7265931023656158, 0.7624404419791164, 0.7265938693756847, 0.7624251945106422, 0.7265946204661017, 0.7624102679534823, 0.7265953559631808, 0.7623956555427756, 0.7265960761867265, 0.7623813506565769, 0.726596781450158, 0.7623673468128256, 0.7265974720606262, 0.7623536376663791, 0.7265981483191336, 0.7623402170061139, 0.7265988105206505, 0.7623270787520855, 0.7265994589542296, 0.7623142169527489, 0.726600093903117, 0.7623016257822397, 0.7266007156448647, 0.7622892995377091, 0.7266013244514375, 0.7622772326367231, 0.7266019205893219, 0.7622654196147071, 0.7266025043196292, 0.7622538551224551, 0.7266030758982, 0.7622425339236855, 0.7266036355757067, 0.762231450892648, 0.7266041835977509, 0.7622206010117892, 0.726604720204963, 0.7622099793694572, 0.7266052456330993, 0.762199581157663, 0.7266057601131348, 0.7621894016698855, 0.7266062638713586, 0.7621794362989264, 0.7266067571294628, 0.7621696805348075, 0.7266072401046335, 0.762160129962713, 0.72660771300964, 0.7621507802609776, 0.7266081760529204, 0.762141627199115, 0.7266086294386653, 0.7621326666358941, 0.726609073366904, 0.7621238945174421, 0.7266095080335846, 0.7621153068754061, 0.7266099336306558, 0.7621068998251387, 0.7266103503461445, 0.7620986695639342, 0.7266107583642346, 0.7620906123692898, 0.7266111578653427, 0.7620827245972129, 0.7266115490261933, 0.7620750026805624, 0.7266119320198908, 0.7620674431274239, 0.7266123070159938, 0.7620600425195179, 0.7266126741805832, 0.7620527975106459, 0.7266130336763341, 0.7620457048251649, 0.726613385662582, 0.7620387612564996, 0.7266137302953903, 0.7620319636656807, 0.7266140677276158, 0.7620253089799147, 0.7266143981089728, 0.7620187941911923, 0.7266147215860959, 0.7620124163549111, 0.726615038302603, 0.7620061725885454, 0.7266153483991552, 0.7620000600703255, 0.7266156520135154, 0.7619940760379641, 0.7266159492806087, 0.7619882177873921, 0.726616240332578, 0.7619824826715332, 0.7266165252988401, 0.7619768680990997, 0.7266168043061434, 0.7619713715334147, 0.7266170774786179, 0.761965990491258, 0.7266173449378316, 0.7619607225417389, 0.72661760680284, 0.7619555653051878, 0.726617863190239, 0.7619505164520819, 0.7266181142142136, 0.7619455737019796, 0.7266183599865872, 0.7619407348224876, 0.7266186006168692, 0.7619359976282476, 0.7266188362123035, 0.7619313599799419, 0.7266190668779128, 0.7619268197833212, 0.726619292716545, 0.7619223749882557, 0.726619513828917, 0.7619180235878019]\n"
          ]
        },
        {
          "output_type": "display_data",
          "data": {
            "text/plain": [
              "<Figure size 640x480 with 1 Axes>"
            ],
            "image/png": "[encoded data removed]"
          },
          "metadata": {}
        }
      ],
      "source": [
        "plt.plot(list(range(1000)), losses);"
      ]
    },
    {
      "cell_type": "markdown",
      "metadata": {
        "id": "_5IVrx9F8n62"
      },
      "source": [
        "## Function to predict from the weights of the trained LR model:"
      ]
    },
    {
      "cell_type": "code",
      "execution_count": 13,
      "metadata": {
        "id": "qj3ZpwiO8n63"
      },
      "outputs": [],
      "source": [
        "def predict(X, weights, bias):\n",
        "    '''\n",
        "    Generate predictions from the step-by-step linear regression model.\n",
        "    '''\n",
        "\n",
        "    N = np.dot(X, weights)\n",
        "\n",
        "    return N + bias"
      ]
    },
    {
      "cell_type": "markdown",
      "metadata": {
        "id": "2hmNLUlO8n63"
      },
      "source": [
        "## Generate predictions and calculate error:"
      ]
    },
    {
      "cell_type": "code",
      "execution_count": 14,
      "metadata": {
        "id": "Oft67Jz58n63"
      },
      "outputs": [],
      "source": [
        "preds = predict(X_test, weights,bias)"
      ]
    },
    {
      "cell_type": "code",
      "execution_count": 15,
      "metadata": {
        "colab": {
          "base_uri": "https://localhost:8080/",
          "height": 493
        },
        "id": "UoSqZocB8n7I",
        "outputId": "8d9e4690-bc54-4471-92cb-0d50be559748"
      },
      "outputs": [
        {
          "output_type": "display_data",
          "data": {
            "text/plain": [
              "<Figure size 640x480 with 1 Axes>"
            ],
            "image/png": "[encoded data removed]"
          },
          "metadata": {}
        }
      ],
      "source": [
        "plt.xlabel(\"Predicted value\")\n",
        "plt.ylabel(\"Actual value\")\n",
        "plt.title(\"Predicted vs. Actual values for\\ncustom linear regression model\");\n",
        "plt.xlim([0, 10])\n",
        "plt.ylim([0, 10])\n",
        "plt.scatter(preds, y_test)\n",
        "plt.plot([0, 10], [0, 10]);\n"
      ]
    }
  ],
  "metadata": {
    "kernelspec": {
      "display_name": "Python 3 (ipykernel)",
      "language": "python",
      "name": "python3"
    },
    "language_info": {
      "codemirror_mode": {
        "name": "ipython",
        "version": 3
      },
      "file_extension": ".py",
      "mimetype": "text/x-python",
      "name": "python",
      "nbconvert_exporter": "python",
      "pygments_lexer": "ipython3",
      "version": "3.9.13"
    },
    "colab": {
      "provenance": []
    }
  },
  "nbformat": 4,
  "nbformat_minor": 0
}
